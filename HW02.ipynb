{
 "cells": [
  {
   "cell_type": "markdown",
   "id": "1c9aeb82-008b-4c9e-9252-f1d4ca53bfa5",
   "metadata": {},
   "source": [
    "## HW02: Exploratory Data Analysis (Part 01)"
   ]
  },
  {
   "cell_type": "markdown",
   "id": "9acce685-1804-490e-973a-4aa93b3bc9e4",
   "metadata": {},
   "source": [
    "This is Assignment 02 for the course \"Introduction to Data Science\" at the Faculty of Information Technology, University of Science, Vietnam National University, Ho Chi Minh City."
   ]
  },
  {
   "cell_type": "markdown",
   "id": "420ca05b-7cef-44b4-a9f9-b779087e63d1",
   "metadata": {},
   "source": [
    "---"
   ]
  },
  {
   "cell_type": "markdown",
   "id": "50ee7498-d651-411e-94af-4d47a659996a",
   "metadata": {},
   "source": [
    "(Latest update: 26/10/2024)\n",
    "\n",
    "Student Name: Võ Hùng Khoa\n",
    "\n",
    "Student ID: 22127202"
   ]
  },
  {
   "cell_type": "markdown",
   "id": "974b6e5c-a060-430c-9d6f-e7e075622182",
   "metadata": {},
   "source": [
    "---"
   ]
  },
  {
   "cell_type": "markdown",
   "id": "3834c625-5c2e-47c9-95ea-364c4ed6e0e0",
   "metadata": {},
   "source": [
    "## **How to Complete and Submit the Assignment**\n",
    "\n",
    "&#9889; **Note**: You should follow the instructions below. If anything is unclear, you need to contact the teaching assistant or instructor immediately for timely support.\n",
    "\n",
    "**How to Do the Assignment**\n",
    "\n",
    "You will work directly on this notebook file. First, fill in your full name and student ID (MSSV) in the header section of the file above. In the file, complete the tasks in sections marked:\n",
    "```python\n",
    "# YOUR CODE HERE\n",
    "raise NotImplementedError()\n",
    "```\n",
    "Or for optional code sections:\n",
    "```python\n",
    "# YOUR CODE HERE (OPTION)\n",
    "```\n",
    "For markdown cells, complete the answer in the section marked:\n",
    "```markdown\n",
    "YOUR ANSWER HERE\n",
    "```\n",
    "\n",
    "**How to Submit the Assignment**\n",
    "\n",
    "Before submitting, select `Kernel` -> `Restart Kernel & Run All Cells` if you are using a local environment, or `Runtime -> Restart session` and run all if using Google Colab, to ensure everything works as expected.\n",
    "\n",
    "Next, create a submission folder with the following structure:\n",
    "- Folder named `MSSV` (for example, if your student ID is `1234567`, name the folder `1234567`)\n",
    "    - File `HW02.ipynb` (no need to submit other files)\n",
    "\n",
    "Finally, compress this `MSSV` folder in `.zip` format (not `.rar` or any other format) and submit it via the link on Moodle.\\\n",
    "<font color=red>Please make sure to strictly follow this submission guideline.</font>"
   ]
  },
  {
   "cell_type": "markdown",
   "id": "4f1099d0-5ece-4a0f-ae60-93aa30d86fee",
   "metadata": {},
   "source": [
    "---"
   ]
  },
  {
   "cell_type": "markdown",
   "id": "ef13dcc2-59d4-4ccf-8f55-b1b5855b6c16",
   "metadata": {},
   "source": [
    "## Import"
   ]
  },
  {
   "cell_type": "code",
   "execution_count": 1,
   "id": "0f7fac13-a4b3-45a0-861a-0d02d596b149",
   "metadata": {},
   "outputs": [],
   "source": [
    "import numpy as np\n",
    "import pandas as pd\n",
    "import matplotlib.pyplot as plt\n",
    "import seaborn as sns\n",
    "%matplotlib inline"
   ]
  },
  {
   "cell_type": "markdown",
   "id": "7f57bab0-3bed-4af8-8f26-207d171e206d",
   "metadata": {},
   "source": [
    "---"
   ]
  },
  {
   "cell_type": "markdown",
   "id": "ab2223fb-72f4-42d3-b67a-1c93c599b906",
   "metadata": {},
   "source": [
    "## Data collecting"
   ]
  },
  {
   "cell_type": "markdown",
   "id": "ce9d4aa1-fd66-4509-8f55-d89e09171d02",
   "metadata": {},
   "source": [
    "The two datasets are related to red and white variants of the Portuguese \"Vinho Verde\" wine. For more details, consult: http://www.vinhoverde.pt/en/ or the reference [Cortez et al., 2009].  Due to privacy and logistic issues, only physicochemical (inputs) and sensory (the output) variables are available (e.g. there is no data about grape types, wine brand, wine selling price, etc.). You can download these data from this [link](https://archive.ics.uci.edu/dataset/186/wine+quality).\n",
    "\n",
    "These datasets can be viewed as classification or regression tasks.  The classes are ordered and not balanced (e.g. there are many more normal wines than excellent or poor ones). Outlier detection algorithms could be used to detect the few excellent or poor wines. Also, we are not sure if all input variables are relevant. So it could be interesting to test feature selection methods."
   ]
  },
  {
   "cell_type": "markdown",
   "id": "aae588ba-72c8-4edf-85ac-c4779d3af8a4",
   "metadata": {},
   "source": [
    "---"
   ]
  },
  {
   "cell_type": "markdown",
   "id": "cda00bde-043c-4dae-adeb-96afc2b5e729",
   "metadata": {},
   "source": [
    "## Exploring your data"
   ]
  },
  {
   "cell_type": "markdown",
   "id": "d27ecd1a-1aa3-4eb6-9d0d-dae5da85f20f",
   "metadata": {},
   "source": [
    "### Read raw data from file (0.25 points)"
   ]
  },
  {
   "cell_type": "code",
   "execution_count": 2,
   "id": "d0bd8504-d542-4590-8bfc-0da6a43703ab",
   "metadata": {
    "deletable": false,
    "nbgrader": {
     "cell_type": "code",
     "checksum": "f30dedc4dd2e89088e0ebbddf57d673e",
     "grade": false,
     "grade_id": "cell-a1f731c2bc3e6167",
     "locked": false,
     "schema_version": 3,
     "solution": true,
     "task": false
    }
   },
   "outputs": [],
   "source": [
    "# YOUR CODE HERE\n",
    "# raise NotImplementedError()\n",
    "raw_white = pd.read_csv(\"data/winequality-white.csv\", sep=\";\")\n",
    "raw_red = pd.read_csv(\"data/winequality-red.csv\", sep=\";\")\n"
   ]
  },
  {
   "cell_type": "code",
   "execution_count": 3,
   "id": "935781ed-06f9-4d4b-ba79-f2744fb83a67",
   "metadata": {
    "deletable": false,
    "editable": false,
    "nbgrader": {
     "cell_type": "code",
     "checksum": "962598c3b3efe1317d53847762e4c8d8",
     "grade": true,
     "grade_id": "cell-f164df2170af969e",
     "locked": true,
     "points": 0.15,
     "schema_version": 3,
     "solution": false,
     "task": false
    }
   },
   "outputs": [
    {
     "data": {
      "text/html": [
       "<div>\n",
       "<style scoped>\n",
       "    .dataframe tbody tr th:only-of-type {\n",
       "        vertical-align: middle;\n",
       "    }\n",
       "\n",
       "    .dataframe tbody tr th {\n",
       "        vertical-align: top;\n",
       "    }\n",
       "\n",
       "    .dataframe thead th {\n",
       "        text-align: right;\n",
       "    }\n",
       "</style>\n",
       "<table border=\"1\" class=\"dataframe\">\n",
       "  <thead>\n",
       "    <tr style=\"text-align: right;\">\n",
       "      <th></th>\n",
       "      <th>fixed acidity</th>\n",
       "      <th>volatile acidity</th>\n",
       "      <th>citric acid</th>\n",
       "      <th>residual sugar</th>\n",
       "      <th>chlorides</th>\n",
       "      <th>free sulfur dioxide</th>\n",
       "      <th>total sulfur dioxide</th>\n",
       "      <th>density</th>\n",
       "      <th>pH</th>\n",
       "      <th>sulphates</th>\n",
       "      <th>alcohol</th>\n",
       "      <th>quality</th>\n",
       "    </tr>\n",
       "  </thead>\n",
       "  <tbody>\n",
       "    <tr>\n",
       "      <th>0</th>\n",
       "      <td>7.0</td>\n",
       "      <td>0.27</td>\n",
       "      <td>0.36</td>\n",
       "      <td>20.7</td>\n",
       "      <td>0.045</td>\n",
       "      <td>45.0</td>\n",
       "      <td>170.0</td>\n",
       "      <td>1.0010</td>\n",
       "      <td>3.00</td>\n",
       "      <td>0.45</td>\n",
       "      <td>8.8</td>\n",
       "      <td>6</td>\n",
       "    </tr>\n",
       "    <tr>\n",
       "      <th>1</th>\n",
       "      <td>6.3</td>\n",
       "      <td>0.30</td>\n",
       "      <td>0.34</td>\n",
       "      <td>1.6</td>\n",
       "      <td>0.049</td>\n",
       "      <td>14.0</td>\n",
       "      <td>132.0</td>\n",
       "      <td>0.9940</td>\n",
       "      <td>3.30</td>\n",
       "      <td>0.49</td>\n",
       "      <td>9.5</td>\n",
       "      <td>6</td>\n",
       "    </tr>\n",
       "    <tr>\n",
       "      <th>2</th>\n",
       "      <td>8.1</td>\n",
       "      <td>0.28</td>\n",
       "      <td>0.40</td>\n",
       "      <td>6.9</td>\n",
       "      <td>0.050</td>\n",
       "      <td>30.0</td>\n",
       "      <td>97.0</td>\n",
       "      <td>0.9951</td>\n",
       "      <td>3.26</td>\n",
       "      <td>0.44</td>\n",
       "      <td>10.1</td>\n",
       "      <td>6</td>\n",
       "    </tr>\n",
       "    <tr>\n",
       "      <th>3</th>\n",
       "      <td>7.2</td>\n",
       "      <td>0.23</td>\n",
       "      <td>0.32</td>\n",
       "      <td>8.5</td>\n",
       "      <td>0.058</td>\n",
       "      <td>47.0</td>\n",
       "      <td>186.0</td>\n",
       "      <td>0.9956</td>\n",
       "      <td>3.19</td>\n",
       "      <td>0.40</td>\n",
       "      <td>9.9</td>\n",
       "      <td>6</td>\n",
       "    </tr>\n",
       "    <tr>\n",
       "      <th>4</th>\n",
       "      <td>7.2</td>\n",
       "      <td>0.23</td>\n",
       "      <td>0.32</td>\n",
       "      <td>8.5</td>\n",
       "      <td>0.058</td>\n",
       "      <td>47.0</td>\n",
       "      <td>186.0</td>\n",
       "      <td>0.9956</td>\n",
       "      <td>3.19</td>\n",
       "      <td>0.40</td>\n",
       "      <td>9.9</td>\n",
       "      <td>6</td>\n",
       "    </tr>\n",
       "  </tbody>\n",
       "</table>\n",
       "</div>"
      ],
      "text/plain": [
       "   fixed acidity  volatile acidity  citric acid  residual sugar  chlorides  \\\n",
       "0            7.0              0.27         0.36            20.7      0.045   \n",
       "1            6.3              0.30         0.34             1.6      0.049   \n",
       "2            8.1              0.28         0.40             6.9      0.050   \n",
       "3            7.2              0.23         0.32             8.5      0.058   \n",
       "4            7.2              0.23         0.32             8.5      0.058   \n",
       "\n",
       "   free sulfur dioxide  total sulfur dioxide  density    pH  sulphates  \\\n",
       "0                 45.0                 170.0   1.0010  3.00       0.45   \n",
       "1                 14.0                 132.0   0.9940  3.30       0.49   \n",
       "2                 30.0                  97.0   0.9951  3.26       0.44   \n",
       "3                 47.0                 186.0   0.9956  3.19       0.40   \n",
       "4                 47.0                 186.0   0.9956  3.19       0.40   \n",
       "\n",
       "   alcohol  quality  \n",
       "0      8.8        6  \n",
       "1      9.5        6  \n",
       "2     10.1        6  \n",
       "3      9.9        6  \n",
       "4      9.9        6  "
      ]
     },
     "execution_count": 3,
     "metadata": {},
     "output_type": "execute_result"
    }
   ],
   "source": [
    "# TEST 1\n",
    "raw_white.head()"
   ]
  },
  {
   "cell_type": "code",
   "execution_count": 4,
   "id": "4bab8b50-3b00-42c8-a4b0-a1feee64b6dd",
   "metadata": {
    "deletable": false,
    "editable": false,
    "nbgrader": {
     "cell_type": "code",
     "checksum": "868a81842f9fac2851e908cdcd27bd40",
     "grade": true,
     "grade_id": "cell-37ca4dbd9cc88d0a",
     "locked": true,
     "points": 0.1,
     "schema_version": 3,
     "solution": false,
     "task": false
    }
   },
   "outputs": [
    {
     "data": {
      "text/html": [
       "<div>\n",
       "<style scoped>\n",
       "    .dataframe tbody tr th:only-of-type {\n",
       "        vertical-align: middle;\n",
       "    }\n",
       "\n",
       "    .dataframe tbody tr th {\n",
       "        vertical-align: top;\n",
       "    }\n",
       "\n",
       "    .dataframe thead th {\n",
       "        text-align: right;\n",
       "    }\n",
       "</style>\n",
       "<table border=\"1\" class=\"dataframe\">\n",
       "  <thead>\n",
       "    <tr style=\"text-align: right;\">\n",
       "      <th></th>\n",
       "      <th>fixed acidity</th>\n",
       "      <th>volatile acidity</th>\n",
       "      <th>citric acid</th>\n",
       "      <th>residual sugar</th>\n",
       "      <th>chlorides</th>\n",
       "      <th>free sulfur dioxide</th>\n",
       "      <th>total sulfur dioxide</th>\n",
       "      <th>density</th>\n",
       "      <th>pH</th>\n",
       "      <th>sulphates</th>\n",
       "      <th>alcohol</th>\n",
       "      <th>quality</th>\n",
       "    </tr>\n",
       "  </thead>\n",
       "  <tbody>\n",
       "    <tr>\n",
       "      <th>0</th>\n",
       "      <td>7.4</td>\n",
       "      <td>0.70</td>\n",
       "      <td>0.00</td>\n",
       "      <td>1.9</td>\n",
       "      <td>0.076</td>\n",
       "      <td>11.0</td>\n",
       "      <td>34.0</td>\n",
       "      <td>0.9978</td>\n",
       "      <td>3.51</td>\n",
       "      <td>0.56</td>\n",
       "      <td>9.4</td>\n",
       "      <td>5</td>\n",
       "    </tr>\n",
       "    <tr>\n",
       "      <th>1</th>\n",
       "      <td>7.8</td>\n",
       "      <td>0.88</td>\n",
       "      <td>0.00</td>\n",
       "      <td>2.6</td>\n",
       "      <td>0.098</td>\n",
       "      <td>25.0</td>\n",
       "      <td>67.0</td>\n",
       "      <td>0.9968</td>\n",
       "      <td>3.20</td>\n",
       "      <td>0.68</td>\n",
       "      <td>9.8</td>\n",
       "      <td>5</td>\n",
       "    </tr>\n",
       "    <tr>\n",
       "      <th>2</th>\n",
       "      <td>7.8</td>\n",
       "      <td>0.76</td>\n",
       "      <td>0.04</td>\n",
       "      <td>2.3</td>\n",
       "      <td>0.092</td>\n",
       "      <td>15.0</td>\n",
       "      <td>54.0</td>\n",
       "      <td>0.9970</td>\n",
       "      <td>3.26</td>\n",
       "      <td>0.65</td>\n",
       "      <td>9.8</td>\n",
       "      <td>5</td>\n",
       "    </tr>\n",
       "    <tr>\n",
       "      <th>3</th>\n",
       "      <td>11.2</td>\n",
       "      <td>0.28</td>\n",
       "      <td>0.56</td>\n",
       "      <td>1.9</td>\n",
       "      <td>0.075</td>\n",
       "      <td>17.0</td>\n",
       "      <td>60.0</td>\n",
       "      <td>0.9980</td>\n",
       "      <td>3.16</td>\n",
       "      <td>0.58</td>\n",
       "      <td>9.8</td>\n",
       "      <td>6</td>\n",
       "    </tr>\n",
       "    <tr>\n",
       "      <th>4</th>\n",
       "      <td>7.4</td>\n",
       "      <td>0.70</td>\n",
       "      <td>0.00</td>\n",
       "      <td>1.9</td>\n",
       "      <td>0.076</td>\n",
       "      <td>11.0</td>\n",
       "      <td>34.0</td>\n",
       "      <td>0.9978</td>\n",
       "      <td>3.51</td>\n",
       "      <td>0.56</td>\n",
       "      <td>9.4</td>\n",
       "      <td>5</td>\n",
       "    </tr>\n",
       "  </tbody>\n",
       "</table>\n",
       "</div>"
      ],
      "text/plain": [
       "   fixed acidity  volatile acidity  citric acid  residual sugar  chlorides  \\\n",
       "0            7.4              0.70         0.00             1.9      0.076   \n",
       "1            7.8              0.88         0.00             2.6      0.098   \n",
       "2            7.8              0.76         0.04             2.3      0.092   \n",
       "3           11.2              0.28         0.56             1.9      0.075   \n",
       "4            7.4              0.70         0.00             1.9      0.076   \n",
       "\n",
       "   free sulfur dioxide  total sulfur dioxide  density    pH  sulphates  \\\n",
       "0                 11.0                  34.0   0.9978  3.51       0.56   \n",
       "1                 25.0                  67.0   0.9968  3.20       0.68   \n",
       "2                 15.0                  54.0   0.9970  3.26       0.65   \n",
       "3                 17.0                  60.0   0.9980  3.16       0.58   \n",
       "4                 11.0                  34.0   0.9978  3.51       0.56   \n",
       "\n",
       "   alcohol  quality  \n",
       "0      9.4        5  \n",
       "1      9.8        5  \n",
       "2      9.8        5  \n",
       "3      9.8        6  \n",
       "4      9.4        5  "
      ]
     },
     "execution_count": 4,
     "metadata": {},
     "output_type": "execute_result"
    }
   ],
   "source": [
    "# TEST 2\n",
    "raw_red.head()"
   ]
  },
  {
   "cell_type": "markdown",
   "id": "8db65c8d-05da-46b9-a804-e50d121c0633",
   "metadata": {},
   "source": [
    "Combine the two dataframes and add a `colors` column to distinguish between red and white wines. Named the dataframe as `raw_df`."
   ]
  },
  {
   "cell_type": "code",
   "execution_count": 5,
   "id": "6c6dbf27-b3e2-4a16-a9c8-053ea252c414",
   "metadata": {},
   "outputs": [],
   "source": [
    "raw_white[\"colors\"] = \"white\"\n",
    "raw_red[\"colors\"] = \"red\"\n",
    "raw_df = pd.concat([raw_white, raw_red], ignore_index=True)"
   ]
  },
  {
   "cell_type": "markdown",
   "id": "4dd09070-eb57-407a-b8b5-d5de88909b26",
   "metadata": {},
   "source": [
    "### How many rows and how many columns does the raw data have? (0.25 points)"
   ]
  },
  {
   "cell_type": "markdown",
   "id": "a526944d-896e-4d36-9a68-b99aa1379d48",
   "metadata": {},
   "source": [
    "Next, you calculate the number of rows and columns of two DataFrames `raw_white` and `raw_red`. Then, store it in the variable `shape_white` and `shape_red`(tuple). "
   ]
  },
  {
   "cell_type": "code",
   "execution_count": 6,
   "id": "147a751a-9140-436e-9f5a-3f8d17915f60",
   "metadata": {
    "deletable": false,
    "nbgrader": {
     "cell_type": "code",
     "checksum": "722df86e5ad0f6a5ea4dd7543cf8a66e",
     "grade": false,
     "grade_id": "cell-e4e95aeda5e3d712",
     "locked": false,
     "schema_version": 3,
     "solution": true,
     "task": false
    }
   },
   "outputs": [],
   "source": [
    "# YOUR CODE HERE\n",
    "# raise NotImplementedError()\n",
    "shape_white = raw_white.shape\n",
    "shape_red = raw_red.shape\n",
    "shape = raw_df.shape"
   ]
  },
  {
   "cell_type": "code",
   "execution_count": 7,
   "id": "4db88662-3ae5-4d7e-b642-36fbbf48dfb5",
   "metadata": {
    "deletable": false,
    "editable": false,
    "nbgrader": {
     "cell_type": "code",
     "checksum": "ea30f7dbc05561cf8ae51cb61a738f01",
     "grade": true,
     "grade_id": "cell-11c8f187fa324c33",
     "locked": true,
     "points": 0.25,
     "schema_version": 3,
     "solution": false,
     "task": false
    }
   },
   "outputs": [],
   "source": [
    "# TEST\n",
    "assert shape_white == (4898, 13)\n",
    "assert shape_red == (1599, 13)\n",
    "assert shape == (6497, 13)"
   ]
  },
  {
   "cell_type": "markdown",
   "id": "a2595ceb-4a7b-40a1-aea3-2aca2fae3aa1",
   "metadata": {},
   "source": [
    "### What does each line mean? Does it matter if the lines have different meanings?"
   ]
  },
  {
   "cell_type": "markdown",
   "id": "0d7cccff-c4e8-4a28-a6d0-1296195397ab",
   "metadata": {},
   "source": [
    "**What does each line mean?**  \n",
    "Each line represents a single wine sample, containing its physicochemical properties (input variables) and the sensory quality score (output variable).  \n",
    "\n",
    "\n",
    "**Does it matter if the lines have different meanings?**  \n",
    "Yes, consistency in the meaning of lines is crucial. If the lines represent different contexts (e.g., varying wine types or evaluation methods), the model's predictions may become inaccurate due to mixed data patterns."
   ]
  },
  {
   "cell_type": "markdown",
   "id": "d945af4f-205a-450f-8453-907058173e76",
   "metadata": {},
   "source": [
    "### Does the raw data have duplicate rows? (0.25 points)"
   ]
  },
  {
   "cell_type": "markdown",
   "id": "3a0fb3c7-e2e4-457a-8157-e617d6837286",
   "metadata": {},
   "source": [
    "Next, you calculate the number of rows with duplicate indexes and store it in the variable `red_num_duplicated_rows` and `white_num_duplicated_rows`. In a group of lines with the same index, the first line is not counted as repeated."
   ]
  },
  {
   "cell_type": "code",
   "execution_count": 8,
   "id": "58847b00-0e4a-4100-a66e-f652e627a420",
   "metadata": {
    "deletable": false,
    "nbgrader": {
     "cell_type": "code",
     "checksum": "dde93c528075854f8e5521e5de944763",
     "grade": false,
     "grade_id": "cell-f3dec99d2782b78c",
     "locked": false,
     "schema_version": 3,
     "solution": true,
     "task": false
    }
   },
   "outputs": [],
   "source": [
    "# YOUR CODE HERE\n",
    "# raise NotImplementedError()\n",
    "# calculate the number of rows with duplicate indexes and store it in the variable `red_num_duplicated_rows` and `white_num_duplicated_rows In a group of lines with the same index, the first line is not counted as repeated. \n",
    "\n",
    "# Count duplicate rows by index for red wine data\n",
    "red_num_duplicated_rows = raw_red.duplicated(keep='first').sum()\n",
    "\n",
    "# Count duplicate rows by index for white wine data\n",
    "white_num_duplicated_rows = raw_white.duplicated(keep='first').sum()\n"
   ]
  },
  {
   "cell_type": "code",
   "execution_count": 9,
   "id": "822a1277-6234-4575-96c2-22914607a8ac",
   "metadata": {
    "deletable": false,
    "editable": false,
    "nbgrader": {
     "cell_type": "code",
     "checksum": "80b784e9935951259ce1be195fb49a3e",
     "grade": true,
     "grade_id": "cell-14c94f9e78ffc028",
     "locked": true,
     "points": 0.25,
     "schema_version": 3,
     "solution": false,
     "task": false
    }
   },
   "outputs": [],
   "source": [
    "# TEST\n",
    "assert white_num_duplicated_rows == 937\n",
    "assert red_num_duplicated_rows == 240"
   ]
  },
  {
   "cell_type": "code",
   "execution_count": 10,
   "id": "cc01a520-e594-44c5-b768-6f2f01a21181",
   "metadata": {},
   "outputs": [],
   "source": [
    "raw_red.drop_duplicates(keep=False, inplace=True)\n",
    "raw_white.drop_duplicates(keep=False, inplace=True)\n",
    "raw_df.drop_duplicates(keep=False, inplace=True)"
   ]
  },
  {
   "cell_type": "markdown",
   "id": "97c6ee35-2300-486f-8c59-fb5f82fb73d0",
   "metadata": {},
   "source": [
    "### What does each column mean? (0.25đ)"
   ]
  },
  {
   "cell_type": "markdown",
   "id": "faa2441f-c8ed-463b-b6c8-1631349fba8a",
   "metadata": {},
   "source": [
    "Read file `winequality.names` and indentify what's type (numerical/ categorical; continous/ discrete; ordinal/ nominal) for each attributes in the dataset."
   ]
  },
  {
   "cell_type": "markdown",
   "id": "d34ea2f9-4022-44f8-b756-cbab30b213d7",
   "metadata": {
    "deletable": false,
    "nbgrader": {
     "cell_type": "markdown",
     "checksum": "8f928b9b6a562469553f851232cf64c4",
     "grade": true,
     "grade_id": "cell-391565b23a9d6966",
     "locked": false,
     "points": 0.25,
     "schema_version": 3,
     "solution": true,
     "task": false
    }
   },
   "source": [
    "<center>\n",
    "\n",
    "| **Variable**            | **Type**                   |\n",
    "|--------------------------|----------------------------|\n",
    "| Fixed acidity            | Numerical, Continuous     |\n",
    "| Volatile acidity         | Numerical, Continuous     |\n",
    "| Citric acid              | Numerical, Continuous     |\n",
    "| Residual sugar           | Numerical, Continuous     |\n",
    "| Chlorides                | Numerical, Continuous     |\n",
    "| Free sulfur dioxide      | Numerical, Discrete       |\n",
    "| Total sulfur dioxide     | Numerical, Discrete       |\n",
    "| Density                  | Numerical, Continuous     |\n",
    "| pH                       | Numerical, Continuous     |\n",
    "| Sulphates                | Numerical, Continuous     |\n",
    "| Alcohol                  | Numerical, Continuous     |\n",
    "| Quality                  | Categorical, Ordinal      |\n",
    "| Color                    | Categorical, Nominal      |\n",
    "\n",
    "<center>"
   ]
  },
  {
   "cell_type": "markdown",
   "id": "9b3f65d2-c568-4e6d-ace9-c017e116c006",
   "metadata": {},
   "source": [
    "### What data type does each column currently have? Are there any columns whose data types are not suitable for further processing? (0.25 points)"
   ]
  },
  {
   "cell_type": "markdown",
   "id": "c6230a18-a02c-41d1-a2e5-77932387ca52",
   "metadata": {},
   "source": [
    "Next, you calculate the data type (dtype) of each column in DataFrame `raw_white` and save the result into Series `white_dtypes` (This Series has the index as the column name). Do similar for `raw_red`."
   ]
  },
  {
   "cell_type": "code",
   "execution_count": 11,
   "id": "d9d2fd79-4728-45f1-93a8-2b056524e10b",
   "metadata": {
    "deletable": false,
    "nbgrader": {
     "cell_type": "code",
     "checksum": "a6cda1cb4e84e8ec2392194331c75594",
     "grade": false,
     "grade_id": "cell-4842c5873ccd8cab",
     "locked": false,
     "schema_version": 3,
     "solution": true,
     "task": false
    }
   },
   "outputs": [],
   "source": [
    "# YOUR CODE HERE\n",
    "# raise NotImplementedError()\n",
    "white_dtypes = raw_white.dtypes\n",
    "red_dtypes = raw_red.dtypes"
   ]
  },
  {
   "cell_type": "code",
   "execution_count": 12,
   "id": "be62f0b6-5306-4056-9362-64fa64e9d530",
   "metadata": {
    "deletable": false,
    "editable": false,
    "nbgrader": {
     "cell_type": "code",
     "checksum": "c737ac005ab8b5be5bd0c857cd680dbc",
     "grade": true,
     "grade_id": "cell-ce4b8d36633948ce",
     "locked": true,
     "points": 0.15,
     "schema_version": 3,
     "solution": false,
     "task": false
    }
   },
   "outputs": [
    {
     "data": {
      "text/plain": [
       "fixed acidity           float64\n",
       "volatile acidity        float64\n",
       "citric acid             float64\n",
       "residual sugar          float64\n",
       "chlorides               float64\n",
       "free sulfur dioxide     float64\n",
       "total sulfur dioxide    float64\n",
       "density                 float64\n",
       "pH                      float64\n",
       "sulphates               float64\n",
       "alcohol                 float64\n",
       "quality                   int64\n",
       "colors                   object\n",
       "dtype: object"
      ]
     },
     "execution_count": 12,
     "metadata": {},
     "output_type": "execute_result"
    }
   ],
   "source": [
    "# TEST 1\n",
    "white_dtypes"
   ]
  },
  {
   "cell_type": "code",
   "execution_count": 13,
   "id": "d6417c7d-fada-4eb8-a2c1-d82ca0b5e11c",
   "metadata": {
    "deletable": false,
    "editable": false,
    "nbgrader": {
     "cell_type": "code",
     "checksum": "b5246e5ab578210ea4b3727060315d1a",
     "grade": true,
     "grade_id": "cell-e89ce01522920567",
     "locked": true,
     "points": 0.1,
     "schema_version": 3,
     "solution": false,
     "task": false
    }
   },
   "outputs": [
    {
     "data": {
      "text/plain": [
       "fixed acidity           float64\n",
       "volatile acidity        float64\n",
       "citric acid             float64\n",
       "residual sugar          float64\n",
       "chlorides               float64\n",
       "free sulfur dioxide     float64\n",
       "total sulfur dioxide    float64\n",
       "density                 float64\n",
       "pH                      float64\n",
       "sulphates               float64\n",
       "alcohol                 float64\n",
       "quality                   int64\n",
       "colors                   object\n",
       "dtype: object"
      ]
     },
     "execution_count": 13,
     "metadata": {},
     "output_type": "execute_result"
    }
   ],
   "source": [
    "# TEST 2\n",
    "red_dtypes\n",
    "\n",
    "# We can see that quality column is not suitable type, it should be in categorical type "
   ]
  },
  {
   "cell_type": "markdown",
   "id": "cb980317-81b6-402b-aef8-ad1978b9e20f",
   "metadata": {},
   "source": [
    "### For each column with numeric data type, how are the values distributed? (1đ)"
   ]
  },
  {
   "cell_type": "markdown",
   "id": "6e7b1ae9-c195-4346-89a5-c53d204dae45",
   "metadata": {},
   "source": [
    "For columns with numeric data types, you will calculate:\n",
    "- Percentage (from 0 to 100) of missing values\n",
    "- The min\n",
    "- The lower quartile (phân vị 25)\n",
    "- The median (phân vị 50)\n",
    "- The upper quartile (phân vị 75)\n",
    "- The max\n",
    "\n",
    "You will save the results to a DataFrame `num_col_info_red` and `num_col_info_white`, where:\n",
    "- The names of the columns are the names of the numeric columns in `raw_red` and `raw_white`\n",
    "- Names of rows: \"missing_ratio\", \"min\", \"lower_quartile\", \"median\", \"upper_quartile\", \"max\"  \n",
    "\n",
    "For ease of viewing, you round all values to 1 decimal place using the `.round(1)` method."
   ]
  },
  {
   "cell_type": "code",
   "execution_count": 14,
   "id": "50bbadea-af1a-4f24-bb95-29ff777b2736",
   "metadata": {
    "deletable": false,
    "nbgrader": {
     "cell_type": "code",
     "checksum": "0516db8a17d1651079d3e3889d8c2b7a",
     "grade": false,
     "grade_id": "cell-bac7c3dae96f89ba",
     "locked": false,
     "schema_version": 3,
     "solution": true,
     "task": false
    }
   },
   "outputs": [],
   "source": [
    "# YOUR CODE HERE\n",
    "# raise NotImplementedError()\n",
    "def calculate_numeric_stats(df):\n",
    "\n",
    "    stats = {\n",
    "        # Calculate the missing ratio of the numeric columns\n",
    "        \"missing_ratio\": df.isnull().mean() * 100,\n",
    "\n",
    "        # Calculate the min of the numeric columns\n",
    "        \"min\": df.min(),\n",
    "\n",
    "        # Calculate the lower_quartile of the numeric columns\n",
    "        \"lower_quartile\": df.quantile(0.25),\n",
    "\n",
    "        # Calculate the median of the numeric columns\n",
    "        \"median\": df.median(),\n",
    "\n",
    "        # Calculate the upper_quartile of the numberic columns\n",
    "        \"upper_quartitle\": df.quantile(0.75),\n",
    "\n",
    "        # Calculate the max of the numeric columns\n",
    "        \"max\": df.max()\n",
    "    }\n",
    "    return pd.DataFrame(stats).round(1).transpose()\n",
    "    \n",
    "# Calculate the numeric statistics for the given DataFrame\n",
    "num_col_info_red = calculate_numeric_stats(raw_red.select_dtypes(include=[np.number]))\n",
    "num_col_info_white = calculate_numeric_stats(raw_white.select_dtypes(include=[np.number]))\n",
    "\n",
    "# Rename the columns to make them more descriptive\n",
    "num_col_info_red.columns = raw_red.select_dtypes(include=[np.number]).columns\n",
    "num_col_info_white.columns = raw_white.select_dtypes(include=[np.number]).columns\n",
    "\n",
    "\n",
    "# Define some statistical functions\n",
    "def missing_ratio(series):\n",
    "    return series.isnull().mean()*100\n",
    "\n",
    "def lower_quartile(series):\n",
    "    return series.quantile(0.25)\n",
    "\n",
    "def median(series):\n",
    "    return series.median()\n",
    "\n",
    "def upper_quartile(series):\n",
    "    return series.quantile(0.75)\n",
    "\n"
   ]
  },
  {
   "cell_type": "code",
   "execution_count": 15,
   "id": "eed3002f-2b8d-4c3b-8320-ff891102dfce",
   "metadata": {
    "deletable": false,
    "editable": false,
    "nbgrader": {
     "cell_type": "code",
     "checksum": "b6719e72d3637e46da8db13aa7452c9b",
     "grade": true,
     "grade_id": "cell-8f6bde86dbc648e0",
     "locked": true,
     "points": 1,
     "schema_version": 3,
     "solution": false,
     "task": false
    }
   },
   "outputs": [],
   "source": [
    "# TEST\n",
    "num_col_info_red = num_col_info_red.agg([missing_ratio, \"min\", lower_quartile, median, upper_quartile, \"max\"])\n",
    "num_col_info_white = num_col_info_white.agg([missing_ratio, \"min\", lower_quartile, median, upper_quartile, \"max\"])"
   ]
  },
  {
   "cell_type": "markdown",
   "id": "76d0c525-c464-4151-a699-7fbb6b95a925",
   "metadata": {},
   "source": [
    "### For each column with a non-numeric data type, how are the values distributed?(1đ)"
   ]
  },
  {
   "cell_type": "markdown",
   "id": "aea15c9e-e4e7-4b60-9519-e28f8d003b39",
   "metadata": {},
   "source": [
    "For columns with non-numeric data types, you calculate:\n",
    "- Percentage (from 0 to 100) of missing values\n",
    "- Number of values (the values here are different values and we do not consider missing values): with columns whose type is categorical, it is a set with a finite number of categories. Directly counting the number of values in these columns doesn't make much sense, so it's better to count the number of elements of all types.\n",
    "- The percentage (from 0 to 100) of each value is sorted by decreasing percentage (we do not consider missing values, the ratio is the ratio compared to the number of non-missing values): you use a dictionary to store , key is the value, value is the percentage; With the column corresponding to each type, the method is similar to above.\n",
    "\n",
    "You will save the results to DataFrame `cat_col_info_df`, where:\n",
    "- The names of the columns are the names of the non-numeric columns in `raw_df`\n",
    "- The names of the lines are: \"missing_ratio\", \"num_values\", \"value_ratios\"\n",
    "\n",
    "For ease of viewing, you round all values to 1 decimal place using the `.round(1)` method."
   ]
  },
  {
   "cell_type": "code",
   "execution_count": null,
   "id": "97c61722",
   "metadata": {},
   "outputs": [
    {
     "data": {
      "text/plain": [
       "2"
      ]
     },
     "execution_count": 45,
     "metadata": {},
     "output_type": "execute_result"
    }
   ],
   "source": [
    "len(raw_df.select_dtypes(exclude=np.number).dropna())"
   ]
  },
  {
   "cell_type": "code",
   "execution_count": null,
   "id": "ae3044b4-ce3e-4746-80be-5dd0715464e4",
   "metadata": {
    "deletable": false,
    "nbgrader": {
     "cell_type": "code",
     "checksum": "f3e049e2e335c03f4a8e00ac939bad8c",
     "grade": false,
     "grade_id": "cell-26c7e877fbb463bf",
     "locked": false,
     "schema_version": 3,
     "solution": true,
     "task": false
    }
   },
   "outputs": [],
   "source": [
    "# YOUR CODE HERE\n",
    "# raise NotImplementedError()\n",
    "def cat_col_info_df(df):\n",
    "    stats = {\n",
    "        # Calculate the missing ratio of the numeric columns\n",
    "        \"missing_ratio\": df.isnull().mean() * 100,\n",
    "\n",
    "        # Calculate the min of the numeric columns\n",
    "        \"num_values\": len(df.value_counts()),\n",
    "\n",
    "        \n",
    "\n",
    "\n",
    "        \"value_ratios\": \n",
    "    }\n",
    "    return pd.DataFrame(stats).round(1).transpose()"
   ]
  },
  {
   "cell_type": "code",
   "execution_count": 18,
   "id": "faf2da9c-55c3-41f2-bc60-192e211fdcac",
   "metadata": {
    "deletable": false,
    "editable": false,
    "nbgrader": {
     "cell_type": "code",
     "checksum": "0538721aad009fe566d0396a178fa2ab",
     "grade": true,
     "grade_id": "cell-e25b38776bb99db3",
     "locked": true,
     "points": 1,
     "schema_version": 3,
     "solution": false,
     "task": false
    }
   },
   "outputs": [
    {
     "ename": "AttributeError",
     "evalue": "'function' object has no attribute 'agg'",
     "output_type": "error",
     "traceback": [
      "\u001b[1;31m---------------------------------------------------------------------------\u001b[0m",
      "\u001b[1;31mAttributeError\u001b[0m                            Traceback (most recent call last)",
      "Cell \u001b[1;32mIn[18], line 2\u001b[0m\n\u001b[0;32m      1\u001b[0m \u001b[38;5;66;03m# TEST\u001b[39;00m\n\u001b[1;32m----> 2\u001b[0m cat_col_info_df \u001b[38;5;241m=\u001b[39m cat_col_info_df\u001b[38;5;241m.\u001b[39magg([missing_ratio, num_values, value_ratios])\n\u001b[0;32m      3\u001b[0m cat_col_info_df\n",
      "\u001b[1;31mAttributeError\u001b[0m: 'function' object has no attribute 'agg'"
     ]
    }
   ],
   "source": [
    "# TEST\n",
    "cat_col_info_df = cat_col_info_df.agg([missing_ratio, num_values, value_ratios])\n",
    "cat_col_info_df"
   ]
  },
  {
   "cell_type": "markdown",
   "id": "e6883d28-7e26-403c-8476-35bc9f968d84",
   "metadata": {},
   "source": [
    "## Exploring your data (Cont)"
   ]
  },
  {
   "cell_type": "markdown",
   "id": "ca1880a4-abe4-4202-bdfc-5245f6393057",
   "metadata": {},
   "source": [
    "### Task 01: Analyzing wine quality via histogram."
   ]
  },
  {
   "cell_type": "code",
   "execution_count": null,
   "id": "9140d866-4ddc-410f-b15e-55b04b62886b",
   "metadata": {
    "deletable": false,
    "nbgrader": {
     "cell_type": "code",
     "checksum": "8ebca1316e333d2934e351eaf46cfce8",
     "grade": true,
     "grade_id": "cell-e45473244e9e6f86",
     "locked": false,
     "points": 0,
     "schema_version": 3,
     "solution": true,
     "task": false
    }
   },
   "outputs": [],
   "source": [
    "# YOUR CODE HERE\n",
    "raise NotImplementedError()"
   ]
  },
  {
   "cell_type": "markdown",
   "id": "2249caf3-752e-477c-937e-c89b002a44a7",
   "metadata": {},
   "source": [
    "### Task 02: Aanalyzing acidity in red and white wine."
   ]
  },
  {
   "cell_type": "code",
   "execution_count": null,
   "id": "ddef19fb-96e2-4af3-9c33-410addfe7c34",
   "metadata": {
    "deletable": false,
    "nbgrader": {
     "cell_type": "code",
     "checksum": "375c594a079eeebb51631c6ecb94e09c",
     "grade": true,
     "grade_id": "cell-b052e7de9514401d",
     "locked": false,
     "points": 0,
     "schema_version": 3,
     "solution": true,
     "task": false
    }
   },
   "outputs": [],
   "source": [
    "# YOUR CODE HERE\n",
    "raise NotImplementedError()"
   ]
  },
  {
   "cell_type": "code",
   "execution_count": null,
   "id": "49997e85-1f5e-46eb-a25d-2d913c65b793",
   "metadata": {
    "deletable": false,
    "nbgrader": {
     "cell_type": "code",
     "checksum": "577ecd4f591d7bbc8ac85a24ad59933d",
     "grade": true,
     "grade_id": "cell-e1412c0b663cae47",
     "locked": false,
     "points": 0,
     "schema_version": 3,
     "solution": true,
     "task": false
    }
   },
   "outputs": [],
   "source": [
    "# YOUR CODE HERE\n",
    "raise NotImplementedError()"
   ]
  },
  {
   "cell_type": "code",
   "execution_count": null,
   "id": "7d0ab798-b22b-4d99-87d9-7295d21d60cb",
   "metadata": {
    "deletable": false,
    "nbgrader": {
     "cell_type": "code",
     "checksum": "85556d2b3cf9c1a24ce7febe01976b10",
     "grade": true,
     "grade_id": "cell-189d0d108d8a7505",
     "locked": false,
     "points": 0,
     "schema_version": 3,
     "solution": true,
     "task": false
    }
   },
   "outputs": [],
   "source": [
    "# YOUR CODE HERE\n",
    "raise NotImplementedError()"
   ]
  },
  {
   "cell_type": "markdown",
   "id": "bb18e1ea-7d4e-438f-a2a8-b10eb8da6a66",
   "metadata": {},
   "source": [
    "### Task 03: Analyzing sulfur dioxide for each type of wines. Try to focus on the ratio of free and total sulfur."
   ]
  },
  {
   "cell_type": "code",
   "execution_count": null,
   "id": "931ddb44-cd0c-498c-bd31-bc3cd2db2148",
   "metadata": {
    "deletable": false,
    "nbgrader": {
     "cell_type": "code",
     "checksum": "a6f6a8e49c063adcd29b674e8ed06ae1",
     "grade": true,
     "grade_id": "cell-ccdb9ef80f167bdf",
     "locked": false,
     "points": 0,
     "schema_version": 3,
     "solution": true,
     "task": false
    }
   },
   "outputs": [],
   "source": [
    "# YOUR CODE HERE\n",
    "raise NotImplementedError()"
   ]
  },
  {
   "cell_type": "code",
   "execution_count": null,
   "id": "a364e65c-99bd-4ca5-9035-8d6a1f73b713",
   "metadata": {
    "deletable": false,
    "nbgrader": {
     "cell_type": "code",
     "checksum": "3db3c582485736553b1a5849b4d85b69",
     "grade": true,
     "grade_id": "cell-3de6ed5efea228c7",
     "locked": false,
     "points": 0,
     "schema_version": 3,
     "solution": true,
     "task": false
    }
   },
   "outputs": [],
   "source": [
    "# YOUR CODE HERE\n",
    "raise NotImplementedError()"
   ]
  },
  {
   "cell_type": "code",
   "execution_count": null,
   "id": "eaeb6071-0257-47c5-988c-c19b956becd3",
   "metadata": {
    "deletable": false,
    "nbgrader": {
     "cell_type": "code",
     "checksum": "d9b1a8eae263b3662f09f46894239ff6",
     "grade": true,
     "grade_id": "cell-2e8c6bd101daefc2",
     "locked": false,
     "points": 0,
     "schema_version": 3,
     "solution": true,
     "task": false
    }
   },
   "outputs": [],
   "source": [
    "# YOUR CODE HERE\n",
    "raise NotImplementedError()"
   ]
  },
  {
   "cell_type": "markdown",
   "id": "82272e9a-d612-4b55-82f4-e865365528e9",
   "metadata": {},
   "source": [
    "### Task 04: What about the residual sugar? How does it affect wine quality?"
   ]
  },
  {
   "cell_type": "code",
   "execution_count": null,
   "id": "bff8cc64-4c7a-4cd5-813e-1dd8f9dfea30",
   "metadata": {
    "deletable": false,
    "nbgrader": {
     "cell_type": "code",
     "checksum": "9d2b856a6c31abcb5d7399a9d6808f08",
     "grade": true,
     "grade_id": "cell-6141cade9bdb3832",
     "locked": false,
     "points": 0,
     "schema_version": 3,
     "solution": true,
     "task": false
    }
   },
   "outputs": [],
   "source": [
    "# YOUR CODE HERE\n",
    "raise NotImplementedError()"
   ]
  },
  {
   "cell_type": "markdown",
   "id": "f5acd5a7-ccb0-4ac4-a571-426524b5ebf3",
   "metadata": {},
   "source": [
    "### Task 05: Alcohol plays a vital role in wine production. How does it affect wine quality?"
   ]
  },
  {
   "cell_type": "code",
   "execution_count": null,
   "id": "823ab266-cc7d-436f-b96b-a16accc2a0f4",
   "metadata": {
    "deletable": false,
    "nbgrader": {
     "cell_type": "code",
     "checksum": "791a393788d30262f9da43d04e48a28b",
     "grade": true,
     "grade_id": "cell-ca8827b632fdd2df",
     "locked": false,
     "points": 0,
     "schema_version": 3,
     "solution": true,
     "task": false
    }
   },
   "outputs": [],
   "source": [
    "# YOUR CODE HERE\n",
    "raise NotImplementedError()"
   ]
  },
  {
   "cell_type": "markdown",
   "id": "142ce888-e6f7-4e0c-bfa8-3646679fe8d1",
   "metadata": {},
   "source": [
    "### Task 06: For each type of wine, how is density distributed? Is it importance to wine quality?"
   ]
  },
  {
   "cell_type": "code",
   "execution_count": null,
   "id": "5cf100cd-3a6d-4b58-88ca-968bd058a7ad",
   "metadata": {
    "deletable": false,
    "nbgrader": {
     "cell_type": "code",
     "checksum": "41c29a74f99c8a4c54f4c48ee67752a3",
     "grade": true,
     "grade_id": "cell-a5afb0e5f433a1f8",
     "locked": false,
     "points": 0,
     "schema_version": 3,
     "solution": true,
     "task": false
    }
   },
   "outputs": [],
   "source": [
    "# YOUR CODE HERE\n",
    "raise NotImplementedError()"
   ]
  },
  {
   "cell_type": "markdown",
   "id": "37c2c32c-4dc0-4f4c-a12b-27bfa5b69eda",
   "metadata": {},
   "source": [
    "### Task 07: How are Chloride characteristics distributed in these two types of wines? "
   ]
  },
  {
   "cell_type": "code",
   "execution_count": null,
   "id": "543aeadd-4ab3-4c65-bcd0-5411689c924b",
   "metadata": {
    "deletable": false,
    "nbgrader": {
     "cell_type": "code",
     "checksum": "0ae0e9614f889fe98ee078f7a1a5baf4",
     "grade": true,
     "grade_id": "cell-cf2a2cac703189b2",
     "locked": false,
     "points": 0,
     "schema_version": 3,
     "solution": true,
     "task": false
    }
   },
   "outputs": [],
   "source": [
    "# YOUR CODE HERE\n",
    "raise NotImplementedError()"
   ]
  },
  {
   "cell_type": "markdown",
   "id": "915c6da4-383e-4ca1-af62-b799964d33cb",
   "metadata": {},
   "source": [
    "## Analyze the correlation between two or more variables"
   ]
  },
  {
   "cell_type": "markdown",
   "id": "a92d95cd-8794-41a8-b46e-230534652ccf",
   "metadata": {},
   "source": [
    "### Task 08: Correlation matrix analysis"
   ]
  },
  {
   "cell_type": "code",
   "execution_count": null,
   "id": "96ba675b-c532-429e-9036-f04eeba313fa",
   "metadata": {
    "deletable": false,
    "nbgrader": {
     "cell_type": "code",
     "checksum": "4ff3abf64fbaa79bad52fc275ed9113b",
     "grade": true,
     "grade_id": "cell-bfac6ff937ff1ab9",
     "locked": false,
     "points": 0,
     "schema_version": 3,
     "solution": true,
     "task": false
    }
   },
   "outputs": [],
   "source": [
    "# YOUR CODE HERE\n",
    "raise NotImplementedError()"
   ]
  },
  {
   "cell_type": "markdown",
   "id": "e86a3e90-f9f2-4514-b41c-700ac0c84fd9",
   "metadata": {},
   "source": [
    "### Analysis of the influence of variables on wine quality"
   ]
  },
  {
   "cell_type": "markdown",
   "id": "fc191a2a-08d7-43db-a51d-5152e5235469",
   "metadata": {},
   "source": [
    "#### Task 09: Investigating the relationship between `Density` and `Quality`"
   ]
  },
  {
   "cell_type": "code",
   "execution_count": null,
   "id": "7d7623eb-3a22-482b-8e26-63df004caf4a",
   "metadata": {
    "deletable": false,
    "nbgrader": {
     "cell_type": "code",
     "checksum": "bd7cd9d372688af508a8a82d54bfef6a",
     "grade": true,
     "grade_id": "cell-f2bf686379e5256c",
     "locked": false,
     "points": 0,
     "schema_version": 3,
     "solution": true,
     "task": false
    }
   },
   "outputs": [],
   "source": [
    "# YOUR CODE HERE\n",
    "raise NotImplementedError()"
   ]
  },
  {
   "cell_type": "code",
   "execution_count": null,
   "id": "836c9095-4b91-4c5c-9b1f-8b8483206cdf",
   "metadata": {
    "deletable": false,
    "nbgrader": {
     "cell_type": "code",
     "checksum": "4926fd965524a0c8a6b2ae79ad217daa",
     "grade": true,
     "grade_id": "cell-435d26d45f12207b",
     "locked": false,
     "points": 0,
     "schema_version": 3,
     "solution": true,
     "task": false
    }
   },
   "outputs": [],
   "source": [
    "# YOUR CODE HERE\n",
    "raise NotImplementedError()"
   ]
  },
  {
   "cell_type": "markdown",
   "id": "b3033946-a11c-4f69-a932-b135c5157cfa",
   "metadata": {},
   "source": [
    "#### Task 10: Investigating the relationship between `Alcohol` and `Quality`"
   ]
  },
  {
   "cell_type": "code",
   "execution_count": null,
   "id": "2c5ab037-8397-4407-896e-b5f4046b5e44",
   "metadata": {
    "deletable": false,
    "nbgrader": {
     "cell_type": "code",
     "checksum": "4951d75ef7cb10f004d09f66318c486d",
     "grade": true,
     "grade_id": "cell-9f4c1e9505987aae",
     "locked": false,
     "points": 0,
     "schema_version": 3,
     "solution": true,
     "task": false
    }
   },
   "outputs": [],
   "source": [
    "# YOUR CODE HERE\n",
    "raise NotImplementedError()"
   ]
  },
  {
   "cell_type": "markdown",
   "id": "9a903662-de0e-4c84-bbaf-0a3476406329",
   "metadata": {},
   "source": [
    "#### Task 11: Investigating the relationship between `Chlorides` and `Quality`"
   ]
  },
  {
   "cell_type": "code",
   "execution_count": null,
   "id": "ab658f9c-a33b-4d02-8e5a-7f3f4a3781d2",
   "metadata": {
    "deletable": false,
    "nbgrader": {
     "cell_type": "code",
     "checksum": "83a6d6e16bfce2affe6fe20b6b1b49b8",
     "grade": true,
     "grade_id": "cell-7eb72396937094db",
     "locked": false,
     "points": 0,
     "schema_version": 3,
     "solution": true,
     "task": false
    }
   },
   "outputs": [],
   "source": [
    "# YOUR CODE HERE\n",
    "raise NotImplementedError()"
   ]
  },
  {
   "cell_type": "markdown",
   "id": "1b67e2ac-a63c-45a1-a9c4-363ce01f9aea",
   "metadata": {},
   "source": [
    "#### Task 12: Investigating the relationship between `Volatile Acidity` and `Quality`"
   ]
  },
  {
   "cell_type": "code",
   "execution_count": null,
   "id": "719b3bff-9fc7-443b-9852-4e98b191f1cb",
   "metadata": {
    "deletable": false,
    "nbgrader": {
     "cell_type": "code",
     "checksum": "5b27934e3f35726b05f88462743d60e1",
     "grade": true,
     "grade_id": "cell-83e1238956bda93c",
     "locked": false,
     "points": 0,
     "schema_version": 3,
     "solution": true,
     "task": false
    }
   },
   "outputs": [],
   "source": [
    "# YOUR CODE HERE\n",
    "raise NotImplementedError()"
   ]
  },
  {
   "cell_type": "markdown",
   "id": "914aa991-8f9d-4d5b-90e8-4b78970b6ce2",
   "metadata": {},
   "source": [
    "#### Task 13: Investigation of the relationship between total SO2 and residual sugar after fermentation"
   ]
  },
  {
   "cell_type": "code",
   "execution_count": null,
   "id": "e1219034-2ce0-43a8-8f59-09499658456c",
   "metadata": {
    "deletable": false,
    "nbgrader": {
     "cell_type": "code",
     "checksum": "f7029af2e433d080c02ee43439bb99ca",
     "grade": true,
     "grade_id": "cell-95dc80e4d9cc7ac2",
     "locked": false,
     "points": 0,
     "schema_version": 3,
     "solution": true,
     "task": false
    }
   },
   "outputs": [],
   "source": [
    "# YOUR CODE HERE\n",
    "raise NotImplementedError()"
   ]
  },
  {
   "cell_type": "markdown",
   "id": "6a3bbc0f-a4d5-4190-8c42-489bca65d4ba",
   "metadata": {},
   "source": [
    "#### Task 14: Investigation of the impact of alcohol concentration and sugar content on alcohol density"
   ]
  },
  {
   "cell_type": "code",
   "execution_count": null,
   "id": "6abda314-bdca-4194-a4ee-8338fd160b54",
   "metadata": {
    "deletable": false,
    "nbgrader": {
     "cell_type": "code",
     "checksum": "3a35c88d03c7f5bea4521ae91e1f3bf1",
     "grade": true,
     "grade_id": "cell-18f74d0dae43e399",
     "locked": false,
     "points": 0,
     "schema_version": 3,
     "solution": true,
     "task": false
    }
   },
   "outputs": [],
   "source": [
    "# YOUR CODE HERE\n",
    "raise NotImplementedError()"
   ]
  },
  {
   "cell_type": "code",
   "execution_count": null,
   "id": "31716af1-fb5d-489c-a0fd-ad0027aedba9",
   "metadata": {
    "deletable": false,
    "nbgrader": {
     "cell_type": "code",
     "checksum": "0edbc87977c01e45dfb83d49e243a868",
     "grade": true,
     "grade_id": "cell-e935af33e66b4d63",
     "locked": false,
     "points": 0,
     "schema_version": 3,
     "solution": true,
     "task": false
    }
   },
   "outputs": [],
   "source": [
    "# YOUR CODE HERE\n",
    "raise NotImplementedError()"
   ]
  },
  {
   "cell_type": "markdown",
   "id": "7628fa67-764b-4a7d-9285-3b5d96f51f46",
   "metadata": {},
   "source": [
    "### Analysis based on wine color"
   ]
  },
  {
   "cell_type": "markdown",
   "id": "15d1afa4-cbec-4079-88a1-a9e9e9ce5cc3",
   "metadata": {},
   "source": [
    "#### Task 15: Analyze the relationship between color and density of wine"
   ]
  },
  {
   "cell_type": "code",
   "execution_count": null,
   "id": "800880c1-a59a-46a4-9987-2be6c9fee0c7",
   "metadata": {
    "deletable": false,
    "nbgrader": {
     "cell_type": "code",
     "checksum": "dd1dda1900ff0374d616c136589f4862",
     "grade": true,
     "grade_id": "cell-9bd179f1ef0bc6a8",
     "locked": false,
     "points": 0,
     "schema_version": 3,
     "solution": true,
     "task": false
    }
   },
   "outputs": [],
   "source": [
    "# YOUR CODE HERE\n",
    "raise NotImplementedError()"
   ]
  },
  {
   "cell_type": "markdown",
   "id": "78119979-083f-441e-b62e-58ced50eb15b",
   "metadata": {},
   "source": [
    "#### Task 16: Analyze the relationship between color and residual sugar after fermentation"
   ]
  },
  {
   "cell_type": "code",
   "execution_count": null,
   "id": "8b4cae76-9a54-4574-b253-6f650288bb2c",
   "metadata": {
    "deletable": false,
    "nbgrader": {
     "cell_type": "code",
     "checksum": "02a92e14faa658d39a3b211214706d20",
     "grade": true,
     "grade_id": "cell-822d5c85c49a67bc",
     "locked": false,
     "points": 0,
     "schema_version": 3,
     "solution": true,
     "task": false
    }
   },
   "outputs": [],
   "source": [
    "# YOUR CODE HERE\n",
    "raise NotImplementedError()"
   ]
  },
  {
   "cell_type": "markdown",
   "id": "142dbaae-23ac-4f2e-9a51-060e0421ac92",
   "metadata": {},
   "source": [
    "#### Task 17: Analyze the relationship between color and total sulfur content in wine"
   ]
  },
  {
   "cell_type": "code",
   "execution_count": null,
   "id": "218fa198-e0b1-4f8f-8028-4f785b1cb501",
   "metadata": {
    "deletable": false,
    "nbgrader": {
     "cell_type": "code",
     "checksum": "59c2fbc1bc746e3c157974ade3eb2ed5",
     "grade": true,
     "grade_id": "cell-9e23e178877bcb14",
     "locked": false,
     "points": 0,
     "schema_version": 3,
     "solution": true,
     "task": false
    }
   },
   "outputs": [],
   "source": [
    "# YOUR CODE HERE\n",
    "raise NotImplementedError()"
   ]
  },
  {
   "cell_type": "markdown",
   "id": "bb9ab354-3e6b-48bf-9c27-c28a9885edf4",
   "metadata": {},
   "source": [
    "#### Task 18: Analyze the relationship between color and free sulfur content in wine"
   ]
  },
  {
   "cell_type": "code",
   "execution_count": null,
   "id": "f544025f-f08e-432d-94c2-9ad225e0afc5",
   "metadata": {
    "deletable": false,
    "nbgrader": {
     "cell_type": "code",
     "checksum": "137629d4afc701c6f01f340a4e87028f",
     "grade": true,
     "grade_id": "cell-d45295de28543279",
     "locked": false,
     "points": 0,
     "schema_version": 3,
     "solution": true,
     "task": false
    }
   },
   "outputs": [],
   "source": [
    "# YOUR CODE HERE\n",
    "raise NotImplementedError()"
   ]
  },
  {
   "cell_type": "markdown",
   "id": "ab60c804-e035-4aa3-8119-9f71b1ac8692",
   "metadata": {},
   "source": [
    "#### Task 19: Analyze the relationship between color and acidity of wine"
   ]
  },
  {
   "cell_type": "code",
   "execution_count": null,
   "id": "19215408-213d-4ec8-9fc9-06e919a38a42",
   "metadata": {
    "deletable": false,
    "nbgrader": {
     "cell_type": "code",
     "checksum": "6ae56757a45b613b8141dba1d15da7da",
     "grade": true,
     "grade_id": "cell-0ca188ff25f80070",
     "locked": false,
     "points": 0,
     "schema_version": 3,
     "solution": true,
     "task": false
    }
   },
   "outputs": [],
   "source": [
    "# YOUR CODE HERE\n",
    "raise NotImplementedError()"
   ]
  },
  {
   "cell_type": "markdown",
   "id": "25a6a3ce-4953-4eef-bec4-1b83e11e0950",
   "metadata": {},
   "source": [
    "### Correlation analysis between variables based on color"
   ]
  },
  {
   "cell_type": "markdown",
   "id": "3ee8254d-73e0-4d07-be0c-2f47d8a800f4",
   "metadata": {},
   "source": [
    "#### Task 20: Investigate the correlation between density and wine quality based on color"
   ]
  },
  {
   "cell_type": "code",
   "execution_count": null,
   "id": "445d9cee-981e-47bb-8a26-5409c9126654",
   "metadata": {
    "deletable": false,
    "nbgrader": {
     "cell_type": "code",
     "checksum": "cebb3fb4b60f83a18334f086470aedc7",
     "grade": true,
     "grade_id": "cell-758d7c4f1bee360c",
     "locked": false,
     "points": 0,
     "schema_version": 3,
     "solution": true,
     "task": false
    }
   },
   "outputs": [],
   "source": [
    "# YOUR CODE HERE\n",
    "raise NotImplementedError()"
   ]
  },
  {
   "cell_type": "markdown",
   "id": "f609822b-65f8-43ed-8240-ab1e74970ea5",
   "metadata": {},
   "source": [
    "#### Task 21: Investigate the correlation between alcohol concentration and wine quality based on color"
   ]
  },
  {
   "cell_type": "code",
   "execution_count": null,
   "id": "e45ac344-f964-48ac-9a41-8c0b2ca0efcc",
   "metadata": {
    "deletable": false,
    "nbgrader": {
     "cell_type": "code",
     "checksum": "ce6e695dd703a4efa551482355baee21",
     "grade": true,
     "grade_id": "cell-e1cbb0e7a2366906",
     "locked": false,
     "points": 0,
     "schema_version": 3,
     "solution": true,
     "task": false
    }
   },
   "outputs": [],
   "source": [
    "# YOUR CODE HERE\n",
    "raise NotImplementedError()"
   ]
  },
  {
   "cell_type": "markdown",
   "id": "8d5d52a5-9a5f-473a-9d15-a24bd7b4e2b4",
   "metadata": {},
   "source": [
    "#### Task 22: Investigate the correlation between salt content and wine quality based on color"
   ]
  },
  {
   "cell_type": "code",
   "execution_count": null,
   "id": "c99c5490-9208-4916-a92f-5ecc6feffbc8",
   "metadata": {
    "deletable": false,
    "nbgrader": {
     "cell_type": "code",
     "checksum": "4f241584a9649a9f8d2b669bb6c38733",
     "grade": true,
     "grade_id": "cell-fc043b0f56a7b3a6",
     "locked": false,
     "points": 0,
     "schema_version": 3,
     "solution": true,
     "task": false
    }
   },
   "outputs": [],
   "source": [
    "# YOUR CODE HERE\n",
    "raise NotImplementedError()"
   ]
  },
  {
   "cell_type": "markdown",
   "id": "0813e64c-1e04-4445-8640-e9989d4e51d4",
   "metadata": {},
   "source": [
    "#### Task 23: Investigate the correlation between acidity and wine quality based on color"
   ]
  },
  {
   "cell_type": "code",
   "execution_count": null,
   "id": "34810535-807e-4040-a71d-d48dac1e425b",
   "metadata": {
    "deletable": false,
    "nbgrader": {
     "cell_type": "code",
     "checksum": "60d83eb318697ed96380046cb4b1cd0a",
     "grade": true,
     "grade_id": "cell-55e8b921bf99b6c7",
     "locked": false,
     "points": 0,
     "schema_version": 3,
     "solution": true,
     "task": false
    }
   },
   "outputs": [],
   "source": [
    "# YOUR CODE HERE\n",
    "raise NotImplementedError()"
   ]
  },
  {
   "cell_type": "markdown",
   "id": "d8b9dac4-454e-4e11-96da-4336d4b1382c",
   "metadata": {},
   "source": [
    "### Multi-attributes analysis"
   ]
  },
  {
   "cell_type": "markdown",
   "id": "0405249a-e7d7-4caf-a314-811de2c5652b",
   "metadata": {},
   "source": [
    "#### Task 24: Chlorides and Sulphates on wine quality"
   ]
  },
  {
   "cell_type": "code",
   "execution_count": null,
   "id": "254b8141-1092-4034-993c-d62f43d6513e",
   "metadata": {
    "deletable": false,
    "nbgrader": {
     "cell_type": "code",
     "checksum": "57164256423684abfcc7608c9dbe504e",
     "grade": true,
     "grade_id": "cell-7cf96ac1224bb022",
     "locked": false,
     "points": 0,
     "schema_version": 3,
     "solution": true,
     "task": false
    }
   },
   "outputs": [],
   "source": [
    "# YOUR CODE HERE\n",
    "raise NotImplementedError()"
   ]
  },
  {
   "cell_type": "code",
   "execution_count": null,
   "id": "c0acee4a-cbf7-428c-88f6-9a4e07779152",
   "metadata": {
    "deletable": false,
    "nbgrader": {
     "cell_type": "code",
     "checksum": "24a06dd57b161812a346472731b81f70",
     "grade": true,
     "grade_id": "cell-48afbbbe3a49d417",
     "locked": false,
     "points": 0,
     "schema_version": 3,
     "solution": true,
     "task": false
    }
   },
   "outputs": [],
   "source": [
    "# YOUR CODE HERE\n",
    "raise NotImplementedError()"
   ]
  },
  {
   "cell_type": "markdown",
   "id": "7bee2677-f2ea-4dd6-a3bf-3b096b3c813b",
   "metadata": {},
   "source": [
    "#### Task 25: Sulfur Dioxide Ratio and Volatile Acidity Ratio on wine quality"
   ]
  },
  {
   "cell_type": "code",
   "execution_count": null,
   "id": "5011933e-f91e-4394-a890-137a62be7573",
   "metadata": {
    "deletable": false,
    "nbgrader": {
     "cell_type": "code",
     "checksum": "4e246143b23ef88165252b5b4d4ba69e",
     "grade": true,
     "grade_id": "cell-1879ef370d511826",
     "locked": false,
     "points": 0,
     "schema_version": 3,
     "solution": true,
     "task": false
    }
   },
   "outputs": [],
   "source": [
    "# YOUR CODE HERE\n",
    "raise NotImplementedError()"
   ]
  },
  {
   "cell_type": "code",
   "execution_count": null,
   "id": "c3931405-b845-4241-aa25-4d82374bc232",
   "metadata": {
    "deletable": false,
    "nbgrader": {
     "cell_type": "code",
     "checksum": "c0c1afc392f7225f3a450b752a9e5e9f",
     "grade": true,
     "grade_id": "cell-7501f4d43cff2294",
     "locked": false,
     "points": 0,
     "schema_version": 3,
     "solution": true,
     "task": false
    }
   },
   "outputs": [],
   "source": [
    "# YOUR CODE HERE\n",
    "raise NotImplementedError()"
   ]
  },
  {
   "cell_type": "markdown",
   "id": "c170b5d0-a7d4-45e3-92ba-87090141111f",
   "metadata": {},
   "source": [
    "#### Task 26: Volatile Acidity and Alcohol on wine quality"
   ]
  },
  {
   "cell_type": "code",
   "execution_count": null,
   "id": "091d9cd0-938b-407a-86e3-cdce0bf949ad",
   "metadata": {
    "deletable": false,
    "nbgrader": {
     "cell_type": "code",
     "checksum": "43306b558ab2e41f7da8e16d9e3d7ec1",
     "grade": true,
     "grade_id": "cell-69e64b640a50e69a",
     "locked": false,
     "points": 0,
     "schema_version": 3,
     "solution": true,
     "task": false
    }
   },
   "outputs": [],
   "source": [
    "# YOUR CODE HERE\n",
    "raise NotImplementedError()"
   ]
  },
  {
   "cell_type": "markdown",
   "id": "9671b290-6c44-4fd9-b035-8ef4efb663e7",
   "metadata": {},
   "source": [
    "### Main Factors Influencing Wine Quality"
   ]
  },
  {
   "cell_type": "markdown",
   "id": "34ac2fb6-73a5-41fd-8a1b-cc390afe271e",
   "metadata": {},
   "source": [
    "Based on the above analysis, you should decide what factors affect wine quality."
   ]
  },
  {
   "cell_type": "code",
   "execution_count": null,
   "id": "e78911c5-3006-49f0-b986-28ed1d8fb471",
   "metadata": {
    "deletable": false,
    "nbgrader": {
     "cell_type": "code",
     "checksum": "e9c265d82f0f8bc550bec74b263c20db",
     "grade": true,
     "grade_id": "cell-1906324a227a5e65",
     "locked": false,
     "points": 0,
     "schema_version": 3,
     "solution": true,
     "task": false
    }
   },
   "outputs": [],
   "source": [
    "# YOUR CODE HERE\n",
    "raise NotImplementedError()"
   ]
  }
 ],
 "metadata": {
  "kernelspec": {
   "display_name": "base",
   "language": "python",
   "name": "python3"
  },
  "language_info": {
   "codemirror_mode": {
    "name": "ipython",
    "version": 3
   },
   "file_extension": ".py",
   "mimetype": "text/x-python",
   "name": "python",
   "nbconvert_exporter": "python",
   "pygments_lexer": "ipython3",
   "version": "3.11.7"
  }
 },
 "nbformat": 4,
 "nbformat_minor": 5
}
